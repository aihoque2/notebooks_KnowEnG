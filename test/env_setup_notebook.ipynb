{
 "cells": [
  {
   "cell_type": "markdown",
   "metadata": {},
   "source": [
    "### Unzip data, copy run files and default notebooks - New Clone Setup. \n",
    "* Test the assumption that this clone can run python notebooks with its privleges on this computer.\n",
    "<font color='red'>\n",
    "#### WARNING running the next cell will overwrite the default notebooks in this directory."
   ]
  },
  {
   "cell_type": "code",
   "execution_count": 1,
   "metadata": {},
   "outputs": [
    {
     "name": "stdout",
     "output_type": "stream",
     "text": [
      "notebooks copy return code = 0\n",
      "run_files copy return code = 0\n",
      "unzip networks return code = 0\n",
      "unzip spreadsheets return code = 0\n"
     ]
    }
   ],
   "source": [
    "import os\n",
    "#                                      copy the .ipynb notebook files to this directory (test/)\n",
    "print('notebooks copy return code =',os.system('cp ../data/notebooks/*.ipynb .'))\n",
    "\n",
    "#                                      copy the .yml files to the ./run_dir\n",
    "print('run_files copy return code =',os.system('cp ../data/run_files/*.yml run_dir/'))\n",
    "\n",
    "#                                      uzip the data files in ../data/networks/ and ../data/spreadsheets/\n",
    "print('unzip networks return code =',os.system('gzip -d ../data/networks/*.gz'))\n",
    "print('unzip spreadsheets return code =',os.system('gzip -d ../data/spreadsheets/*.gz'))"
   ]
  },
  {
   "cell_type": "markdown",
   "metadata": {},
   "source": [
    "### Zip up the data for push."
   ]
  },
  {
   "cell_type": "code",
   "execution_count": 2,
   "metadata": {},
   "outputs": [
    {
     "name": "stdout",
     "output_type": "stream",
     "text": [
      "zip networks return code = 256\n",
      "zip spreadsheets return code = 256\n"
     ]
    }
   ],
   "source": [
    "import os\n",
    "#                                      zip up the data files in ../data/networks/ and ../data/spreadsheets/\n",
    "print('zip networks return code =',os.system('gzip ../data/networks/*'))\n",
    "print('zip spreadsheets return code =',os.system('gzip ../data/spreadsheets/*'))"
   ]
  },
  {
   "cell_type": "code",
   "execution_count": null,
   "metadata": {
    "collapsed": true
   },
   "outputs": [],
   "source": []
  }
 ],
 "metadata": {
  "kernelspec": {
   "display_name": "Python 3",
   "language": "python",
   "name": "python3"
  },
  "language_info": {
   "codemirror_mode": {
    "name": "ipython",
    "version": 3
   },
   "file_extension": ".py",
   "mimetype": "text/x-python",
   "name": "python",
   "nbconvert_exporter": "python",
   "pygments_lexer": "ipython3",
   "version": "3.5.2"
  }
 },
 "nbformat": 4,
 "nbformat_minor": 2
}
