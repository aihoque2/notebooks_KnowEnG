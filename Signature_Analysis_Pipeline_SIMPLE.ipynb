{
 "cells": [
  {
   "cell_type": "markdown",
   "metadata": {},
   "source": [
    "[Signature Analysis Pipeline - Readme on github](https://github.com/KnowEnG/Signature_Analysis_Pipeline/blob/master/README.md)\n",
    "\n",
    "# KnowEnG 's Signiture Analysis Pipeline notebook\n"
   ]
  },
  {
   "cell_type": "markdown",
   "metadata": {},
   "source": [
    "# available files:\n",
    "    BENCHMARK_1_GS_cos.yml\n",
    "    BENCHMARK_1_GS_spearman.yml\n",
    "    BENCHMARK_2_GS_net_cos.yml\n",
    "    BENCHMARK_2_GS_net_spearman.yml\n",
    "    BENCHMARK_3_GS_cc_cos.yml\n",
    "    BENCHMARK_3_GS_cc_spearman.yml\n",
    "    BENCHMARK_4_GS_cc_net_cos.yml\n",
    "    BENCHMARK_4_GS_cc_net_cos.yml"
   ]
  },
  {
   "cell_type": "code",
   "execution_count": 29,
   "metadata": {},
   "outputs": [
    {
     "data": {
      "application/vnd.jupyter.widget-view+json": {
       "model_id": "5a720ed5f5454ec1bb4b51d855f33b2b",
       "version_major": 2,
       "version_minor": 0
      },
      "text/html": [
       "<p>Failed to display Jupyter Widget of type <code>Box</code>.</p>\n",
       "<p>\n",
       "  If you're reading this message in Jupyter Notebook or JupyterLab, it may mean\n",
       "  that the widgets JavaScript is still loading. If this message persists, it\n",
       "  likely means that the widgets JavaScript library is either not installed or\n",
       "  not enabled. See the <a href=\"https://ipywidgets.readthedocs.io/en/stable/user_install.html\">Jupyter\n",
       "  Widgets Documentation</a> for setup instructions.\n",
       "</p>\n",
       "<p>\n",
       "  If you're reading this message in another notebook frontend (for example, a static\n",
       "  rendering on GitHub or <a href=\"https://nbviewer.jupyter.org/\">NBViewer</a>),\n",
       "  it may mean that your frontend doesn't currently support widgets.\n",
       "</p>\n"
      ],
      "text/plain": [
       "Box(children=(Dropdown(layout=Layout(width='50%'), options=('BENCHMARK_4_GS_cc_net_spearman.yml', 'BENCHMARK_3_GS_cc_cos.yml', 'BENCHMARK_1_GS_cos.yml', 'BENCHMARK_4_GS_cc_net_cos.yml', 'BENCHMARK_3_GS_cc_spearman.yml', 'BENCHMARK_2_GS_net_spearman.yml', 'BENCHMARK_1_GS_spearman.yml', 'BENCHMARK_2_GS_net_cos.yml'), value='BENCHMARK_4_GS_cc_net_spearman.yml'), Button(description='View', style=ButtonStyle(), tooltip='visualize selected file')), layout=Layout(align_items='stretch', border='none', display='inline-flex', flex_flow='row', justify_content='space-between', width='100%'))"
      ]
     },
     "metadata": {},
     "output_type": "display_data"
    },
    {
     "data": {
      "application/vnd.jupyter.widget-view+json": {
       "model_id": "1639e936837044878d41551c5f9ee2d9",
       "version_major": 2,
       "version_minor": 0
      },
      "text/html": [
       "<p>Failed to display Jupyter Widget of type <code>HTML</code>.</p>\n",
       "<p>\n",
       "  If you're reading this message in Jupyter Notebook or JupyterLab, it may mean\n",
       "  that the widgets JavaScript is still loading. If this message persists, it\n",
       "  likely means that the widgets JavaScript library is either not installed or\n",
       "  not enabled. See the <a href=\"https://ipywidgets.readthedocs.io/en/stable/user_install.html\">Jupyter\n",
       "  Widgets Documentation</a> for setup instructions.\n",
       "</p>\n",
       "<p>\n",
       "  If you're reading this message in another notebook frontend (for example, a static\n",
       "  rendering on GitHub or <a href=\"https://nbviewer.jupyter.org/\">NBViewer</a>),\n",
       "  it may mean that your frontend doesn't currently support widgets.\n",
       "</p>\n"
      ],
      "text/plain": [
       "HTML(value='')"
      ]
     },
     "metadata": {},
     "output_type": "display_data"
    }
   ],
   "source": [
    "# %%writefile Signature_Analysis_notebook_tools.py\n",
    "import os\n",
    "import sys\n",
    "\n",
    "from IPython.display import display\n",
    "import ipywidgets as widgets\n",
    "\n",
    "import knpackage.toolbox as kn\n",
    "\n",
    "sys.path.insert(1, '../Signature_Analysis_Pipeline/src')\n",
    "import gene_signature_toolbox as gsa_tbx\n",
    "\n",
    "sys.path.insert(1, '../notebooks_KnowEnG/src')\n",
    "from layout_notebooks import *\n",
    "\n",
    "run_files_path = 'user_data/run_files'\n",
    "results_dir = 'results'\n",
    "            \n",
    "def visualize_selected_yaml_file(button):\n",
    "    \"\"\" callback for yaml file view / clear button \"\"\"\n",
    "    if button.description == 'Clear':\n",
    "        button.view_box.value = ''\n",
    "        button.description = 'View'\n",
    "    else:\n",
    "        yaml_files_directory = button.file_selector.data_directory\n",
    "        yaml_file_name = button.file_selector.value\n",
    "        button.view_box.value = get_run_parameters_string(yaml_files_directory, yaml_file_name)\n",
    "        button.description = 'Clear'\n",
    "    \n",
    "    \n",
    "def get_run_parameters_string(run_files_path, yaml_file_name):\n",
    "    run_parameters = kn.get_run_parameters(run_files_path, yaml_file_name)\n",
    "    S = '<p>'\n",
    "    for k, v in run_parameters.items():\n",
    "        S += '%25s : %s'%(k, v) + '<br>'\n",
    "    S += '</p>'\n",
    "    return S\n",
    "\n",
    "def get_yaml_file_button_set(data_directory, button_name='View'):\n",
    "    \"\"\" get a view button with file select listbox and a file view box \"\"\"\n",
    "    select_file_button = widgets.Button(description=button_name,\n",
    "                                           disabled=False,\n",
    "                                           button_style='',\n",
    "                                           tooltip='visualize selected file')\n",
    "\n",
    "    select_file_button.view_box = get_view_box()\n",
    "    select_file_button.file_selector = get_dropdown_files_listbox(data_directory, file_types=['.yml'])\n",
    "    select_file_button.file_selector.data_directory = data_directory\n",
    "    select_file_button.on_click(visualize_selected_yaml_file)\n",
    "\n",
    "    return  select_file_button\n",
    "\n",
    "def disp_run_parameters(run_parameters):\n",
    "    \"\"\" formateed display of the run_parameters dict \"\"\"\n",
    "    for k, v in run_parameters.items():\n",
    "        print('%25s : %s'%(k, v))\n",
    "\n",
    "def run_yaml_file(yaml_file_name):\n",
    "    if os.path.isfile(os.path.join(run_files_path, yaml_file_name)):\n",
    "        print('file is found')\n",
    "        run_parameters = kn.get_run_parameters(run_files_path, yaml_file_name)\n",
    "        disp_run_parameters(run_parameters)\n",
    "        \n",
    "        if run_parameters['method'] == 'similarity':\n",
    "            gsa_tbx.run_similarity(run_parameters)\n",
    "        elif run_parameters['method'] == 'cc_similarity':\n",
    "            gsa_tbx.run_cc_similarity(run_parameters)\n",
    "        elif run_parameters['method'] == 'net_similarity':\n",
    "            gsa_tbx.run_net_similarity(run_parameters)\n",
    "        elif run_parameters['method'] == 'cc_net_similarity':\n",
    "            gsa_tbx.run_cc_net_similarity(run_parameters)\n",
    "        else:\n",
    "            print('run_parameters method not found')\n",
    "            \n",
    "def execute_yaml_file(button):\n",
    "    print('BOO!')\n",
    "\n",
    "select_file_button = get_yaml_file_button_set(run_files_path)\n",
    "show_select_view_button(select_file_button)"
   ]
  },
  {
   "cell_type": "code",
   "execution_count": 31,
   "metadata": {},
   "outputs": [
    {
     "data": {
      "application/vnd.jupyter.widget-view+json": {
       "model_id": "451cd6bd59764e01a5858d77a5d51b90",
       "version_major": 2,
       "version_minor": 0
      },
      "text/html": [
       "<p>Failed to display Jupyter Widget of type <code>HBox</code>.</p>\n",
       "<p>\n",
       "  If you're reading this message in Jupyter Notebook or JupyterLab, it may mean\n",
       "  that the widgets JavaScript is still loading. If this message persists, it\n",
       "  likely means that the widgets JavaScript library is either not installed or\n",
       "  not enabled. See the <a href=\"https://ipywidgets.readthedocs.io/en/stable/user_install.html\">Jupyter\n",
       "  Widgets Documentation</a> for setup instructions.\n",
       "</p>\n",
       "<p>\n",
       "  If you're reading this message in another notebook frontend (for example, a static\n",
       "  rendering on GitHub or <a href=\"https://nbviewer.jupyter.org/\">NBViewer</a>),\n",
       "  it may mean that your frontend doesn't currently support widgets.\n",
       "</p>\n"
      ],
      "text/plain": [
       "HBox(children=(Button(description='RUN', style=ButtonStyle(), tooltip='execute selected file'),), layout=Layout(display='flex', flex_flow='row', justify_content='flex-end', width='100%'))"
      ]
     },
     "metadata": {},
     "output_type": "display_data"
    },
    {
     "data": {
      "application/vnd.jupyter.widget-view+json": {
       "model_id": "82e8509f913a4bd294dc9d2bb18185a9",
       "version_major": 2,
       "version_minor": 0
      },
      "text/html": [
       "<p>Failed to display Jupyter Widget of type <code>HTML</code>.</p>\n",
       "<p>\n",
       "  If you're reading this message in Jupyter Notebook or JupyterLab, it may mean\n",
       "  that the widgets JavaScript is still loading. If this message persists, it\n",
       "  likely means that the widgets JavaScript library is either not installed or\n",
       "  not enabled. See the <a href=\"https://ipywidgets.readthedocs.io/en/stable/user_install.html\">Jupyter\n",
       "  Widgets Documentation</a> for setup instructions.\n",
       "</p>\n",
       "<p>\n",
       "  If you're reading this message in another notebook frontend (for example, a static\n",
       "  rendering on GitHub or <a href=\"https://nbviewer.jupyter.org/\">NBViewer</a>),\n",
       "  it may mean that your frontend doesn't currently support widgets.\n",
       "</p>\n"
      ],
      "text/plain": [
       "HTML(value='')"
      ]
     },
     "metadata": {},
     "output_type": "display_data"
    },
    {
     "name": "stdout",
     "output_type": "stream",
     "text": [
      "BOO!\n"
     ]
    }
   ],
   "source": [
    "exbutton = get_single_file_execute_button(run_files_path, results_dir, select_file_button.file_selector, button_name='RUN')\n",
    "exbutton.on_click(execute_yaml_file)\n",
    "show_execute_button(exbutton)"
   ]
  },
  {
   "cell_type": "code",
   "execution_count": 22,
   "metadata": {},
   "outputs": [],
   "source": [
    "# Choose a yaml file\n",
    "# import sys\n",
    "# sys.path.insert(1, '../notebooks_KnowEnG/src')\n",
    "# from Signature_Analysis_notebook_tools import *\n",
    "\n",
    "yaml_file_name = 'BENCHMARK_2_GS_net_cos.yml'\n",
    "S = get_run_parameters_string(run_files_path, yaml_file_name)\n",
    "view_text_box.value = S\n",
    "\n",
    "\n",
    "# run_yaml_file(yaml_file_name)"
   ]
  },
  {
   "cell_type": "code",
   "execution_count": null,
   "metadata": {},
   "outputs": [],
   "source": []
  }
 ],
 "metadata": {
  "kernelspec": {
   "display_name": "Python 3",
   "language": "python",
   "name": "python3"
  },
  "language_info": {
   "codemirror_mode": {
    "name": "ipython",
    "version": 3
   },
   "file_extension": ".py",
   "mimetype": "text/x-python",
   "name": "python",
   "nbconvert_exporter": "python",
   "pygments_lexer": "ipython3",
   "version": "3.4.3"
  }
 },
 "nbformat": 4,
 "nbformat_minor": 2
}
