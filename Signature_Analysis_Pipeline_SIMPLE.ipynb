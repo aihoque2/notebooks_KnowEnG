{
 "cells": [
  {
   "cell_type": "markdown",
   "metadata": {},
   "source": [
    "[Signature Analysis Pipeline - Readme on github](https://github.com/KnowEnG/Signature_Analysis_Pipeline/blob/master/README.md)\n",
    "\n",
    "# KnowEnG 's Signiture Analysis Pipeline notebook\n"
   ]
  },
  {
   "cell_type": "code",
   "execution_count": 1,
   "metadata": {},
   "outputs": [],
   "source": [
    "# %%writefile Signature_Analysis_notebook_tools.py\n",
    "import os\n",
    "import sys\n",
    "\n",
    "from IPython.display import display\n",
    "import ipywidgets as widgets\n",
    "\n",
    "import knpackage.toolbox as kn\n",
    "\n",
    "sys.path.insert(1, '../Signature_Analysis_Pipeline/src')\n",
    "import gene_signature_toolbox as gsa_tbx\n",
    "\n",
    "sys.path.insert(1, '../notebooks_KnowEnG/src')\n",
    "from layout_notebooks import *\n",
    "\n",
    "relative_path_root = '../Signature_Analysis_Pipeline'\n",
    "run_files_path = '../Signature_Analysis_Pipeline/data/run_files'\n",
    "# run_files_path = 'user_data/run_files'\n",
    "results_dir = 'results'\n",
    "\n",
    "spreadsheets_dir = os.path.join(os.path.join(relative_path_root, 'data'), 'spreadsheets')\n",
    "networks_dir = os.path.join(os.path.join(relative_path_root, 'data'), 'networks')\n",
    "run_files_dir = os.path.join(os.path.join(relative_path_root, 'data'), 'run_files')\n",
    "\n",
    "local_dict = {'data/spreadsheets': spreadsheets_dir, \n",
    "              'data/networks': networks_dir, \n",
    "              'run_dir' : '.', \n",
    "              'data/run_files' : run_files_dir}\n",
    "\n",
    "\n",
    "def visualize_selected_yaml_file(button):\n",
    "    \"\"\" callback for yaml file view / clear button \"\"\"\n",
    "    if button.description == 'Clear':\n",
    "        button.view_box.value = ''\n",
    "        button.description = 'View'\n",
    "    else:\n",
    "        yaml_files_directory = button.file_selector.data_directory\n",
    "        yaml_file_name = button.file_selector.value\n",
    "        button.view_box.value = get_run_parameters_string(yaml_files_directory, yaml_file_name)\n",
    "        button.description = 'Clear'\n",
    "    \n",
    "    \n",
    "def get_run_parameters_string(run_files_path, yaml_file_name):\n",
    "    run_parameters = kn.get_run_parameters(run_files_path, yaml_file_name)\n",
    "    S = '<p>'\n",
    "    for k, v in run_parameters.items():\n",
    "        S += '%25s : %s'%(k, v) + '<br>'\n",
    "    S += '</p>'\n",
    "    return S\n",
    "\n",
    "def get_yaml_file_button_set(data_directory, button_name='View'):\n",
    "    \"\"\" get a view button with file select listbox and a file view box \"\"\"\n",
    "    select_file_button = widgets.Button(description=button_name,\n",
    "                                           disabled=False,\n",
    "                                           button_style='',\n",
    "                                           tooltip='visualize selected file')\n",
    "\n",
    "    select_file_button.view_box = get_view_box()\n",
    "    select_file_button.file_selector = get_dropdown_files_listbox(data_directory, file_types=['.yml'])\n",
    "    select_file_button.file_selector.data_directory = data_directory\n",
    "    select_file_button.on_click(visualize_selected_yaml_file)\n",
    "\n",
    "    return  select_file_button\n",
    "\n",
    "def disp_run_parameters(run_parameters):\n",
    "    \"\"\" formateed display of the run_parameters dict \"\"\"\n",
    "    for k, v in run_parameters.items():\n",
    "        print('%25s : %s'%(k, v))\n",
    "\n",
    "def set_local_run_parameters(run_parameters, local_dict):\n",
    "    \"\"\" run_parameters = set_local_run_parameters(run_parameters, local_dict) \"\"\"\n",
    "    for key_name, key_value in local_dict.items():\n",
    "        for k, v in run_parameters.items():\n",
    "            if 'full_path' in k or 'directory' in k:\n",
    "                if key_name in v:\n",
    "                    de_nada, f_name = os.path.split(v)\n",
    "                    run_parameters[k] = os.path.join(key_value, f_name)\n",
    "                \n",
    "    return run_parameters\n",
    "\n",
    "def run_yaml_file(run_files_path, yaml_file_name):\n",
    "    if os.path.isfile(os.path.join(run_files_path, yaml_file_name)):\n",
    "        run_parameters = kn.get_run_parameters(run_files_path, yaml_file_name)\n",
    "\n",
    "        run_parameters['results_directory'] = results_dir\n",
    "        run_parameters['tmp_directory'] = 'tmp'\n",
    "        run_parameters['run_directory'] = '.'\n",
    "        run_parameters = set_local_run_parameters(run_parameters, local_dict)\n",
    "        \n",
    "        if run_parameters['method'] == 'similarity':\n",
    "            gsa_tbx.run_similarity(run_parameters)\n",
    "        elif run_parameters['method'] == 'cc_similarity':\n",
    "            gsa_tbx.run_cc_similarity(run_parameters)\n",
    "        elif run_parameters['method'] == 'net_similarity':\n",
    "            gsa_tbx.run_net_similarity(run_parameters)\n",
    "        elif run_parameters['method'] == 'cc_net_similarity':\n",
    "            gsa_tbx.run_cc_net_similarity(run_parameters)\n",
    "        else:\n",
    "            print('run_parameters method not found')\n",
    "            \n",
    "def execute_yaml_file(button):\n",
    "    \"\"\"  \"\"\"\n",
    "    yaml_files_directory = button.file_selector.data_directory\n",
    "    yaml_file_name = button.file_selector.value\n",
    "\n",
    "    run_yaml_file(yaml_files_directory, yaml_file_name)\n",
    "    "
   ]
  },
  {
   "cell_type": "code",
   "execution_count": 2,
   "metadata": {},
   "outputs": [
    {
     "data": {
      "application/vnd.jupyter.widget-view+json": {
       "model_id": "402012dcdc2f4c68a95fba9c7b112c4c",
       "version_major": 2,
       "version_minor": 0
      },
      "text/html": [
       "<p>Failed to display Jupyter Widget of type <code>Box</code>.</p>\n",
       "<p>\n",
       "  If you're reading this message in Jupyter Notebook or JupyterLab, it may mean\n",
       "  that the widgets JavaScript is still loading. If this message persists, it\n",
       "  likely means that the widgets JavaScript library is either not installed or\n",
       "  not enabled. See the <a href=\"https://ipywidgets.readthedocs.io/en/stable/user_install.html\">Jupyter\n",
       "  Widgets Documentation</a> for setup instructions.\n",
       "</p>\n",
       "<p>\n",
       "  If you're reading this message in another notebook frontend (for example, a static\n",
       "  rendering on GitHub or <a href=\"https://nbviewer.jupyter.org/\">NBViewer</a>),\n",
       "  it may mean that your frontend doesn't currently support widgets.\n",
       "</p>\n"
      ],
      "text/plain": [
       "Box(children=(Dropdown(layout=Layout(width='50%'), options=('BENCHMARK_1_GS_cos.yml', 'BENCHMARK_1_GS_spearman.yml', 'BENCHMARK_2_GS_net_cos.yml', 'BENCHMARK_2_GS_net_spearman.yml', 'BENCHMARK_3_GS_cc_cos.yml', 'BENCHMARK_3_GS_cc_spearman.yml', 'BENCHMARK_4_GS_cc_net_cos.yml', 'BENCHMARK_4_GS_cc_net_spearman.yml', 'TEST_1_GS_cos.yml', 'TEST_1_GS_spearman.yml', 'TEST_2_GS_net_cos.yml', 'TEST_2_GS_net_spearman.yml', 'TEST_3_GS_cc_cos.yml', 'TEST_3_GS_cc_spearman.yml', 'TEST_4_GS_cc_net_cos.yml', 'TEST_4_GS_cc_net_spearman.yml', 'zTEMPLATE_cc_net_cos.yml', 'zTEMPLATE_cc_net_spearman.yml'), value='BENCHMARK_1_GS_cos.yml'), Button(description='View', style=ButtonStyle(), tooltip='visualize selected file')), layout=Layout(align_items='stretch', border='none', display='inline-flex', flex_flow='row', justify_content='space-between', width='100%'))"
      ]
     },
     "metadata": {},
     "output_type": "display_data"
    },
    {
     "data": {
      "application/vnd.jupyter.widget-view+json": {
       "model_id": "71ce9b6da1d74447bf76c427bdf56a15",
       "version_major": 2,
       "version_minor": 0
      },
      "text/html": [
       "<p>Failed to display Jupyter Widget of type <code>HTML</code>.</p>\n",
       "<p>\n",
       "  If you're reading this message in Jupyter Notebook or JupyterLab, it may mean\n",
       "  that the widgets JavaScript is still loading. If this message persists, it\n",
       "  likely means that the widgets JavaScript library is either not installed or\n",
       "  not enabled. See the <a href=\"https://ipywidgets.readthedocs.io/en/stable/user_install.html\">Jupyter\n",
       "  Widgets Documentation</a> for setup instructions.\n",
       "</p>\n",
       "<p>\n",
       "  If you're reading this message in another notebook frontend (for example, a static\n",
       "  rendering on GitHub or <a href=\"https://nbviewer.jupyter.org/\">NBViewer</a>),\n",
       "  it may mean that your frontend doesn't currently support widgets.\n",
       "</p>\n"
      ],
      "text/plain": [
       "HTML(value='')"
      ]
     },
     "metadata": {},
     "output_type": "display_data"
    }
   ],
   "source": [
    "select_file_button = get_yaml_file_button_set(run_files_path)\n",
    "show_select_view_button(select_file_button)"
   ]
  },
  {
   "cell_type": "code",
   "execution_count": 4,
   "metadata": {},
   "outputs": [
    {
     "data": {
      "application/vnd.jupyter.widget-view+json": {
       "model_id": "482f9313cd7f4dbcbf2952858f84c29e",
       "version_major": 2,
       "version_minor": 0
      },
      "text/html": [
       "<p>Failed to display Jupyter Widget of type <code>HBox</code>.</p>\n",
       "<p>\n",
       "  If you're reading this message in Jupyter Notebook or JupyterLab, it may mean\n",
       "  that the widgets JavaScript is still loading. If this message persists, it\n",
       "  likely means that the widgets JavaScript library is either not installed or\n",
       "  not enabled. See the <a href=\"https://ipywidgets.readthedocs.io/en/stable/user_install.html\">Jupyter\n",
       "  Widgets Documentation</a> for setup instructions.\n",
       "</p>\n",
       "<p>\n",
       "  If you're reading this message in another notebook frontend (for example, a static\n",
       "  rendering on GitHub or <a href=\"https://nbviewer.jupyter.org/\">NBViewer</a>),\n",
       "  it may mean that your frontend doesn't currently support widgets.\n",
       "</p>\n"
      ],
      "text/plain": [
       "HBox(children=(Button(description='RUN', style=ButtonStyle(), tooltip='execute selected file'),), layout=Layout(display='flex', flex_flow='row', justify_content='flex-end', width='100%'))"
      ]
     },
     "metadata": {},
     "output_type": "display_data"
    },
    {
     "data": {
      "application/vnd.jupyter.widget-view+json": {
       "model_id": "ce1f9097efd34ebab91303540188fbba",
       "version_major": 2,
       "version_minor": 0
      },
      "text/html": [
       "<p>Failed to display Jupyter Widget of type <code>HTML</code>.</p>\n",
       "<p>\n",
       "  If you're reading this message in Jupyter Notebook or JupyterLab, it may mean\n",
       "  that the widgets JavaScript is still loading. If this message persists, it\n",
       "  likely means that the widgets JavaScript library is either not installed or\n",
       "  not enabled. See the <a href=\"https://ipywidgets.readthedocs.io/en/stable/user_install.html\">Jupyter\n",
       "  Widgets Documentation</a> for setup instructions.\n",
       "</p>\n",
       "<p>\n",
       "  If you're reading this message in another notebook frontend (for example, a static\n",
       "  rendering on GitHub or <a href=\"https://nbviewer.jupyter.org/\">NBViewer</a>),\n",
       "  it may mean that your frontend doesn't currently support widgets.\n",
       "</p>\n"
      ],
      "text/plain": [
       "HTML(value='')"
      ]
     },
     "metadata": {},
     "output_type": "display_data"
    }
   ],
   "source": [
    "exbutton = get_single_file_execute_button(run_files_path, \n",
    "                                          results_dir, \n",
    "                                          select_file_button.file_selector, \n",
    "                                          button_name='RUN')\n",
    "exbutton.on_click(execute_yaml_file)\n",
    "show_execute_button(exbutton)"
   ]
  },
  {
   "cell_type": "code",
   "execution_count": null,
   "metadata": {},
   "outputs": [],
   "source": [
    "# Choose a yaml file\n",
    "# import sys\n",
    "# sys.path.insert(1, '../notebooks_KnowEnG/src')\n",
    "# from Signature_Analysis_notebook_tools import *\n",
    "\n",
    "yaml_file_name = 'BENCHMARK_2_GS_net_cos.yml'\n",
    "S = get_run_parameters_string(run_files_path, yaml_file_name)\n",
    "view_text_box.value = S\n",
    "\n",
    "\n",
    "# run_yaml_file(yaml_file_name)"
   ]
  },
  {
   "cell_type": "code",
   "execution_count": null,
   "metadata": {},
   "outputs": [],
   "source": []
  }
 ],
 "metadata": {
  "kernelspec": {
   "display_name": "Python 3",
   "language": "python",
   "name": "python3"
  },
  "language_info": {
   "codemirror_mode": {
    "name": "ipython",
    "version": 3
   },
   "file_extension": ".py",
   "mimetype": "text/x-python",
   "name": "python",
   "nbconvert_exporter": "python",
   "pygments_lexer": "ipython3",
   "version": "3.5.2"
  }
 },
 "nbformat": 4,
 "nbformat_minor": 2
}
