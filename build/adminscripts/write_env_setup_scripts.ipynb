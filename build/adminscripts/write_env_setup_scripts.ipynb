{
 "cells": [
  {
   "cell_type": "markdown",
   "metadata": {},
   "source": [
    "### Create Admin scripts: env_setup_script.py and/or recompress_data.py"
   ]
  },
  {
   "cell_type": "code",
   "execution_count": null,
   "metadata": {},
   "outputs": [],
   "source": [
    "%%writefile env_setup_script.py\n",
    "import os\n",
    "def env_setup():\n",
    "    \"\"\" setup the test directory to assure cloned repository is working \"\"\"\n",
    "    overwrite_notebooks = input('overwrite test directory notebooks and run_dir/*.yml files:  Y? | >> ')\n",
    "    if overwrite_notebooks == 'Y' or overwrite_notebooks == 'y':\n",
    "        print('notebooks copy return code = %i'%(os.system('cp ../../data/notebooks/*.ipynb ../../test')))\n",
    "        print('run_files copy return code = %i'%(os.system('cp ../../data/run_files/*.yml ../../test/run_dir/')))\n",
    "    else:\n",
    "        print('test directory notebooks and run_dir/*.yml not changed')\n",
    "    \n",
    "    print('unzip networks return code = %i'%(os.system('gzip -d ../../data/networks/*.gz')))\n",
    "    print('unzip spreadsheets return code = %i'%(os.system('gzip -d ../../data/spreadsheets/*.gz')))\n",
    "    \n",
    "if __name__ == \"__main__\":\n",
    "    env_setup()"
   ]
  },
  {
   "cell_type": "code",
   "execution_count": null,
   "metadata": {},
   "outputs": [],
   "source": [
    "%%writefile recompress_data.py\n",
    "import os\n",
    "def recompress_data():\n",
    "    \"\"\" re-compress data \"\"\"\n",
    "    print('zip networks return code =',os.system('gzip ../../data/networks/*'))\n",
    "    print('zip spreadsheets return code =',os.system('gzip ../../data/spreadsheets/*'))\n",
    "    \n",
    "if __name__ == \"__main__\":\n",
    "    recompress_data()"
   ]
  },
  {
   "cell_type": "code",
   "execution_count": null,
   "metadata": {
    "collapsed": true
   },
   "outputs": [],
   "source": []
  }
 ],
 "metadata": {
  "kernelspec": {
   "display_name": "Python 3",
   "language": "python",
   "name": "python3"
  },
  "language_info": {
   "codemirror_mode": {
    "name": "ipython",
    "version": 3
   },
   "file_extension": ".py",
   "mimetype": "text/x-python",
   "name": "python",
   "nbconvert_exporter": "python",
   "pygments_lexer": "ipython3",
   "version": "3.5.3"
  }
 },
 "nbformat": 4,
 "nbformat_minor": 2
}
