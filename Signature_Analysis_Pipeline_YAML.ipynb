{
 "cells": [
  {
   "cell_type": "markdown",
   "metadata": {},
   "source": [
    "[Signature Analysis Pipeline - Readme on github](https://github.com/KnowEnG-Research/Signature_Analysis_Pipeline/blob/master/README.md)\n",
    "## Click on the >| Run button above to run a cell.\n",
    "    * Run the cells in order (re-running the same cell is ok).\n",
    "    * Kernel > Restart & Clear Output (to clear errors and start over).\n",
    "    * Note that the path names in the yaml files must be edited even to run with the pipeline defaults.\n",
    "\n",
    "\n",
    "# KnowEnG 's Signiture Analysis Pipeline notebook\n",
    "    (0) (optional upload your data files: spreadsheets, network, yaml).\n",
    "    1) Select and Edit the run parameters from the pipeline data/run_files.\n",
    "    2) Run the yaml file to put the output in the results directory.\n",
    "    3) View and download your results."
   ]
  },
  {
   "cell_type": "code",
   "execution_count": 1,
   "metadata": {},
   "outputs": [
    {
     "name": "stdout",
     "output_type": "stream",
     "text": [
      "run parameter (yaml) files available for this pipeline:\n",
      "\n",
      "\t TEST_4_GS_cc_net_spearman.yml\n",
      "\t TEST_4_GS_cc_net_cos.yml\n",
      "\t zTEMPLATE_cc_net_spearman.yml\n",
      "\t TEST_3_GS_cc_cos.yml\n",
      "\t BENCHMARK_4_GS_cc_net_spearman.yml\n",
      "\t BENCHMARK_3_GS_cc_cos.yml\n",
      "\t BENCHMARK_1_GS_cos.yml\n",
      "\t BENCHMARK_4_GS_cc_net_cos.yml\n",
      "\t TEST_3_GS_cc_spearman.yml\n",
      "\t zTEMPLATE_cc_net_cos.yml\n",
      "\t TEST_2_GS_net_cos.yml\n",
      "\t BENCHMARK_3_GS_cc_spearman.yml\n",
      "\t TEST_2_GS_net_spearman.yml\n",
      "\t BENCHMARK_2_GS_net_spearman.yml\n",
      "\t TEST_1_GS_spearman.yml\n",
      "\t BENCHMARK_1_GS_spearman.yml\n",
      "\t TEST_1_GS_cos.yml\n",
      "\t BENCHMARK_2_GS_net_cos.yml\n"
     ]
    }
   ],
   "source": [
    "import os\n",
    "import sys\n",
    "\n",
    "import knpackage.toolbox as kn\n",
    "\n",
    "sys.path.insert(1, '../Signature_Analysis_Pipeline/src')\n",
    "import gene_signature_toolbox as gsa_tbx\n",
    "\n",
    "\n",
    "yaml_files_path = '../Signature_Analysis_Pipeline/data/run_files'\n",
    "spreadsheet_files_path = '../Signature_Analysis_Pipeline/data/spreadsheets'\n",
    "network_files_path = '../Signature_Analysis_Pipeline/data/networks'\n",
    "\n",
    "def get_run_parameters(yaml_file_name, yaml_files_path=yaml_files_path):\n",
    "    \"\"\" use knoweng package code to get the run parameters \"\"\"\n",
    "    return kn.get_run_parameters(yaml_files_path, yaml_file_name)\n",
    "\n",
    "def disp_run_parameters(run_parameters):\n",
    "    \"\"\" formateed display of the run_parameters dict \"\"\"\n",
    "    for k, v in run_parameters.items():\n",
    "        print('%25s : %s'%(k, v))\n",
    "\n",
    "def disp_yaml_file(yaml_file_name, yaml_files_path=yaml_files_path):\n",
    "    \"\"\" open and display a yaml file \"\"\"\n",
    "    disp_run_parameters(get_run_parameters(yaml_file_name, yaml_files_path))\n",
    "    \n",
    "def view_directory(dir_name):\n",
    "    \"\"\" view the contents of a directory \"\"\"\n",
    "    if os.path.isdir(dir_name):\n",
    "        dir_list = os.listdir(dir_name)\n",
    "        for maybe_file in dir_list:\n",
    "            if os.path.isfile(os.path.join(dir_name, maybe_file)):\n",
    "                print('\\t',maybe_file)\n",
    "    else:\n",
    "        print('directory not found:\\n',dir_name)\n",
    "\n",
    "def get_full_path_name(file_name, path_name):\n",
    "    return os.path.join(path_name, file_name)\n",
    "\n",
    "\n",
    "import pandas as pd\n",
    "from IPython.display import display\n",
    "\n",
    "def view_results_spreadsheet(result_file_name, results_path, first_row=0, last_row=10):\n",
    "    \"\"\" view a spreadsheeet \"\"\"\n",
    "    start_row = min(first_row, last_row)\n",
    "    fin_row = max(first_row, last_row)\n",
    "    if start_row + 1 > fin_row:\n",
    "        return\n",
    "    if os.path.isfile(os.path.join(results_path, result_file_name)):\n",
    "        spreadsheet_name_full_path = get_full_path_name(result_file_name, results_path)\n",
    "        spreadsheet_df = kn.get_spreadsheet_df(spreadsheet_name_full_path)\n",
    "        number_of_rows = spreadsheet_df.shape[0]\n",
    "        if number_of_rows < 1:\n",
    "            return\n",
    "        elif fin_row <= number_of_rows and start_row >= 0:\n",
    "            display(spreadsheet_df.iloc[start_row:fin_row,:])\n",
    "        elif fin_row <= number_of_rows:\n",
    "            display(spreadsheet_df.iloc[0:fin_row,:])\n",
    "        else:\n",
    "            display(spreadsheet_df.iloc[0:number_of_rows,:])\n",
    "    else:\n",
    "        print('Data Frame File Not Found:\\n', os.path.join(results_path, result_file_name))\n",
    "\n",
    "\n",
    "user_data_path = 'user_data'\n",
    "results_path = 'results'\n",
    "\n",
    "\n",
    "print('run parameter (yaml) files available for this pipeline:\\n')\n",
    "view_directory(yaml_files_path)"
   ]
  },
  {
   "cell_type": "markdown",
   "metadata": {},
   "source": [
    "## (optional) Upload your files to the user data directory:\n",
    "    * Select File > Open from the jupyter menu above.\n",
    "    * Switch to the **user_data** directory by clicking on it.\n",
    "    * In the Upper Right of the directory page click on upload, and find the file on your computer.\n",
    "    * You will have to click on the highlighted \"upload\" button (or \"cancel\") to start the upload.\n",
    "    \n",
    "### (Edit one of the yaml files as a starting point to run your data)."
   ]
  },
  {
   "cell_type": "markdown",
   "metadata": {},
   "source": [
    "## 1) Choose a yaml file, display the run_parameters dictionary."
   ]
  },
  {
   "cell_type": "code",
   "execution_count": null,
   "metadata": {},
   "outputs": [],
   "source": [
    "# Choose a yaml file\n",
    "yaml_file_name = 'BENCHMARK_2_GS_net_cos.yml'\n",
    "\n",
    "run_parameters = get_run_parameters(yaml_file_name, yaml_files_path)\n",
    "disp_run_parameters(run_parameters)"
   ]
  },
  {
   "cell_type": "markdown",
   "metadata": {},
   "source": [
    "### 1) Edit and display until run_parameters are correct."
   ]
  },
  {
   "cell_type": "code",
   "execution_count": null,
   "metadata": {},
   "outputs": [],
   "source": [
    "# edit and display:\n",
    "run_parameters['results_directory'] = 'results'\n",
    "run_parameters['tmp_directory'] = 'results'\n",
    "run_parameters['run_directory'] = '.'\n",
    "\n",
    "run_parameters['gg_network_name_full_path'] = get_full_path_name('keg_ST90_4col.edge', network_files_path)\n",
    "run_parameters['signature_name_full_path'] = get_full_path_name('Hsap.nbs_UCEC.G.gene_som_mut.binary.a.df', \n",
    "                                                                spreadsheet_files_path)\n",
    "run_parameters['spreadsheet_name_full_path'] = get_full_path_name('Hsap.nbs_OV.G.gene_som_mut.binary.a.df', \n",
    "                                                                spreadsheet_files_path)\n",
    "\n",
    "run_parameters['rwr_restart_probability'] = 0.5\n",
    "disp_run_parameters(run_parameters)"
   ]
  },
  {
   "cell_type": "markdown",
   "metadata": {},
   "source": [
    "## 2) Run the pipeline with the edited run_parameters."
   ]
  },
  {
   "cell_type": "code",
   "execution_count": null,
   "metadata": {},
   "outputs": [],
   "source": [
    "if run_parameters['method'] == 'similarity':\n",
    "    gsa_tbx.run_similarity(run_parameters)\n",
    "elif run_parameters['method'] == 'cc_similarity':\n",
    "    gsa_tbx.run_cc_similarity(run_parameters)\n",
    "elif run_parameters['method'] == 'net_similarity':\n",
    "    gsa_tbx.run_net_similarity(run_parameters)\n",
    "elif run_parameters['method'] == 'cc_net_similarity':\n",
    "    gsa_tbx.run_cc_net_similarity(run_parameters)"
   ]
  },
  {
   "cell_type": "markdown",
   "metadata": {},
   "source": [
    "## 3) View the file:\n",
    "    * Run the next cell to see the list of files in the results directory.\n",
    "    * Enter the name of a file to view with the next cell.\n",
    "        * (Only the first 10 rows will be displayed)"
   ]
  },
  {
   "cell_type": "code",
   "execution_count": 4,
   "metadata": {},
   "outputs": [
    {
     "data": {
      "text/plain": [
       "['result_net_similarity_cosine_Tue_28_Nov_2017_20_47_08.010686635_viz.tsv',\n",
       " 'result_net_similarity_cosine_Tue_28_Nov_2017_20_30_55.845087289_viz.tsv',\n",
       " '.ipynb_checkpoints',\n",
       " 'result_net_similarity_cosine_Tue_28_Nov_2017_21_15_41.129926681_viz.tsv',\n",
       " 'result_net_similarity_cosine_Tue_28_Nov_2017_20_58_51.706730842_viz.tsv']"
      ]
     },
     "execution_count": 4,
     "metadata": {},
     "output_type": "execute_result"
    }
   ],
   "source": [
    "# view the results directory and choose a file to view\n",
    "\n",
    "result_file_name = 'Enter_the_file_name_only_here'\n",
    "\n",
    "os.listdir(results_path)"
   ]
  },
  {
   "cell_type": "code",
   "execution_count": 5,
   "metadata": {},
   "outputs": [
    {
     "name": "stdout",
     "output_type": "stream",
     "text": [
      "Data Frame File Not Found:\n",
      " results/Enter_the_file_name_only_here\n"
     ]
    }
   ],
   "source": [
    "# display the spreadsheet if the name is entered properly.\n",
    "# result_file_name = 'result_net_similarity_cosine_Tue_28_Nov_2017_21_15_41.129926681_viz.tsv'\n",
    "first_row = 0\n",
    "max_number_to_display = 20000\n",
    "last_row = first_row + max_number_to_display\n",
    "view_results_spreadsheet(result_file_name ,results_path, first_row, last_row)"
   ]
  },
  {
   "cell_type": "markdown",
   "metadata": {},
   "source": [
    "### 3) Download the file:\n",
    "    * Select File - Open - results from the jupyter menu.\n",
    "    * Click the checkbox next to the file name (only one at a time).\n",
    "    * Click download to copy the file to your downloads directory."
   ]
  },
  {
   "cell_type": "code",
   "execution_count": null,
   "metadata": {},
   "outputs": [],
   "source": []
  }
 ],
 "metadata": {
  "kernelspec": {
   "display_name": "Python 3",
   "language": "python",
   "name": "python3"
  },
  "language_info": {
   "codemirror_mode": {
    "name": "ipython",
    "version": 3
   },
   "file_extension": ".py",
   "mimetype": "text/x-python",
   "name": "python",
   "nbconvert_exporter": "python",
   "pygments_lexer": "ipython3",
   "version": "3.4.3"
  }
 },
 "nbformat": 4,
 "nbformat_minor": 2
}
